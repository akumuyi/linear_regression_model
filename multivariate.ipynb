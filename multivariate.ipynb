{
  "nbformat": 4,
  "nbformat_minor": 0,
  "metadata": {
    "colab": {
      "provenance": [],
      "mount_file_id": "1S0akXwO2qyI_wKzlkMNoXjHcDsIjk0nw",
      "authorship_tag": "ABX9TyNsqXQYmk9YZdaOurxbxTVz",
      "include_colab_link": true
    },
    "kernelspec": {
      "name": "python3",
      "display_name": "Python 3"
    },
    "language_info": {
      "name": "python"
    }
  },
  "cells": [
    {
      "cell_type": "markdown",
      "metadata": {
        "id": "view-in-github",
        "colab_type": "text"
      },
      "source": [
        "<a href=\"https://colab.research.google.com/github/akumuyi/linear_regression_model/blob/main/multivariate.ipynb\" target=\"_parent\"><img src=\"https://colab.research.google.com/assets/colab-badge.svg\" alt=\"Open In Colab\"/></a>"
      ]
    },
    {
      "cell_type": "markdown",
      "source": [
        "# **Problem Statement**\n",
        "The goal is to predict the heating load requirements (denoted as Y1 in the dataset) for buildings based on eight building characteristics provided in the Energy Efficiency Dataset from the UCI Machine Learning Repository. The dataset contains 768 samples with features such as glazing area, wall area, roof area, and others, and two target variables: heating load (Y1) and cooling load (Y2). For this task, we will focus on predicting the heating load (Y1) using a linear regression model optimized with gradient descent, and compare its performance with decision tree and random forest models to determine the best-performing model based on the loss metric (Mean Squared Error, MSE)."
      ],
      "metadata": {
        "id": "MZJxjcEw_gxE"
      }
    },
    {
      "cell_type": "markdown",
      "source": [
        "# **1. Load and Explore the Dataset**\n",
        "First, we load the dataset into a pandas DataFrame and perform basic exploration to understand its structure and ensure data quality."
      ],
      "metadata": {
        "id": "mpFK63lY_7B5"
      }
    },
    {
      "cell_type": "code",
      "execution_count": 4,
      "metadata": {
        "colab": {
          "base_uri": "https://localhost:8080/"
        },
        "id": "ChXg7_WN_PuX",
        "outputId": "1a8de4fc-9a91-47a5-8fc7-5adfbcb7c328"
      },
      "outputs": [
        {
          "output_type": "stream",
          "name": "stdout",
          "text": [
            "First 5 rows of the dataset:\n",
            "     X1     X2     X3      X4   X5  X6   X7  X8     Y1     Y2\n",
            "0  0.98  514.5  294.0  110.25  7.0   2  0.0   0  15.55  21.33\n",
            "1  0.98  514.5  294.0  110.25  7.0   3  0.0   0  15.55  21.33\n",
            "2  0.98  514.5  294.0  110.25  7.0   4  0.0   0  15.55  21.33\n",
            "3  0.98  514.5  294.0  110.25  7.0   5  0.0   0  15.55  21.33\n",
            "4  0.90  563.5  318.5  122.50  7.0   2  0.0   0  20.84  28.28\n",
            "\n",
            "Dataset Info:\n",
            "<class 'pandas.core.frame.DataFrame'>\n",
            "RangeIndex: 768 entries, 0 to 767\n",
            "Data columns (total 10 columns):\n",
            " #   Column  Non-Null Count  Dtype  \n",
            "---  ------  --------------  -----  \n",
            " 0   X1      768 non-null    float64\n",
            " 1   X2      768 non-null    float64\n",
            " 2   X3      768 non-null    float64\n",
            " 3   X4      768 non-null    float64\n",
            " 4   X5      768 non-null    float64\n",
            " 5   X6      768 non-null    int64  \n",
            " 6   X7      768 non-null    float64\n",
            " 7   X8      768 non-null    int64  \n",
            " 8   Y1      768 non-null    float64\n",
            " 9   Y2      768 non-null    float64\n",
            "dtypes: float64(8), int64(2)\n",
            "memory usage: 60.1 KB\n",
            "None\n",
            "\n",
            "Missing Values:\n",
            "X1    0\n",
            "X2    0\n",
            "X3    0\n",
            "X4    0\n",
            "X5    0\n",
            "X6    0\n",
            "X7    0\n",
            "X8    0\n",
            "Y1    0\n",
            "Y2    0\n",
            "dtype: int64\n"
          ]
        }
      ],
      "source": [
        "import pandas as pd\n",
        "\n",
        "# Load the dataset (assuming it's saved as 'energy_efficiency.csv')\n",
        "data = pd.read_csv('/content/drive/MyDrive/Machine_Learning_Summative/summative2/ENB2012.csv')\n",
        "\n",
        "# Display the first few rows\n",
        "print(\"First 5 rows of the dataset:\")\n",
        "print(data.head())\n",
        "\n",
        "# Check data info and missing values\n",
        "print(\"\\nDataset Info:\")\n",
        "print(data.info())\n",
        "print(\"\\nMissing Values:\")\n",
        "print(data.isnull().sum())"
      ]
    },
    {
      "cell_type": "markdown",
      "source": [
        "# **2. Prepare the Data**\n",
        "We split the data into features (X) and target (y), then into training and testing sets."
      ],
      "metadata": {
        "id": "07rVRmRjCHjS"
      }
    },
    {
      "cell_type": "code",
      "source": [
        "from sklearn.model_selection import train_test_split\n",
        "\n",
        "# Features and target\n",
        "X = data.drop(['Y1', 'Y2'], axis=1)  # Drop both targets\n",
        "y = data['Y1']  # Heating load as target\n",
        "\n",
        "# Split into training and testing sets (80-20 split)\n",
        "X_train, X_test, y_train, y_test = train_test_split(X, y, test_size=0.2, random_state=42)\n",
        "\n",
        "print(f\"Training set shape: {X_train.shape}\")\n",
        "print(f\"Testing set shape: {X_test.shape}\")"
      ],
      "metadata": {
        "colab": {
          "base_uri": "https://localhost:8080/"
        },
        "id": "g5s5zYaPCKoA",
        "outputId": "50372246-b723-4c96-a87b-52a9d7050bc8"
      },
      "execution_count": 5,
      "outputs": [
        {
          "output_type": "stream",
          "name": "stdout",
          "text": [
            "Training set shape: (614, 8)\n",
            "Testing set shape: (154, 8)\n"
          ]
        }
      ]
    },
    {
      "cell_type": "markdown",
      "source": [
        "# **3. Create and Optimize Linear Regression with Gradient Descent**\n",
        "Since scikit-learn’s LinearRegression uses ordinary least squares, we use SGDRegressor for gradient descent. We optimize its hyperparameters and plot the loss curve.\n",
        "### Feature Scaling\n",
        "Gradient descent requires scaled features, so we use StandardScaler."
      ],
      "metadata": {
        "id": "ngk2rMWnCV-B"
      }
    },
    {
      "cell_type": "code",
      "source": [
        "from sklearn.preprocessing import StandardScaler\n",
        "\n",
        "scaler = StandardScaler()\n",
        "X_train_scaled = scaler.fit_transform(X_train)\n",
        "X_test_scaled = scaler.transform(X_test)"
      ],
      "metadata": {
        "id": "quEG6CQpClZ6"
      },
      "execution_count": 11,
      "outputs": []
    },
    {
      "cell_type": "markdown",
      "source": [
        "### **Hyperparameter Optimization**\n",
        "We use GridSearchCV to find the best hyperparameters for SGDRegressor."
      ],
      "metadata": {
        "id": "1KeDScqiCo7w"
      }
    },
    {
      "cell_type": "code",
      "source": [
        "from sklearn.linear_model import SGDRegressor\n",
        "from sklearn.model_selection import GridSearchCV\n",
        "\n",
        "# Define parameter grid\n",
        "param_grid = {\n",
        "    'eta0': [0.01, 0.1, 1],  # Learning rate\n",
        "    'alpha': [0.0001, 0.001, 0.01],  # Regularization strength\n",
        "    'loss': ['squared_error', 'huber']  # Loss functions\n",
        "}\n",
        "\n",
        "# Initialize SGDRegressor\n",
        "sgd_reg = SGDRegressor(max_iter=1000, tol=1e-3, random_state=42)\n",
        "\n",
        "# Perform grid search\n",
        "grid_search = GridSearchCV(sgd_reg, param_grid, cv=5, scoring='neg_mean_squared_error')\n",
        "grid_search.fit(X_train_scaled, y_train)\n",
        "\n",
        "# Best parameters and score\n",
        "best_params = grid_search.best_params_\n",
        "print(\"Best Parameters from Grid Search:\")\n",
        "print(best_params)\n",
        "print(f\"Best Negative MSE: {grid_search.best_score_}\")"
      ],
      "metadata": {
        "colab": {
          "base_uri": "https://localhost:8080/"
        },
        "id": "-DTPYb8JCy3h",
        "outputId": "1c24e679-c0e3-4f43-f156-9c0d8715396d"
      },
      "execution_count": 21,
      "outputs": [
        {
          "output_type": "stream",
          "name": "stdout",
          "text": [
            "Best Parameters from Grid Search:\n",
            "{'alpha': 0.0001, 'eta0': 0.01, 'loss': 'squared_error'}\n",
            "Best Negative MSE: -8.689990673987904\n"
          ]
        }
      ]
    },
    {
      "cell_type": "markdown",
      "source": [
        "### **Plot Loss Curve**\n",
        "To plot the loss curve, we use partial_fit to train incrementally and track MSE over iterations."
      ],
      "metadata": {
        "id": "w5QR4JOuDBXQ"
      }
    },
    {
      "cell_type": "code",
      "source": [
        "import numpy as np\n",
        "import matplotlib.pyplot as plt\n",
        "from sklearn.metrics import mean_squared_error\n",
        "\n",
        "# Initialize SGDRegressor with best parameters\n",
        "sgd_reg = SGDRegressor(**best_params, random_state=42)\n",
        "\n",
        "train_losses = []\n",
        "test_losses = []\n",
        "\n",
        "# Train incrementally and record losses\n",
        "for i in range(1000):\n",
        "    sgd_reg.partial_fit(X_train_scaled, y_train)\n",
        "    train_loss = mean_squared_error(y_train, sgd_reg.predict(X_train_scaled))\n",
        "    test_loss = mean_squared_error(y_test, sgd_reg.predict(X_test_scaled))\n",
        "    train_losses.append(train_loss)\n",
        "    test_losses.append(test_loss)\n",
        "\n",
        "# Plot\n",
        "plt.figure(figsize=(10, 6))\n",
        "plt.plot(train_losses, label='Train Loss (MSE)')\n",
        "plt.plot(test_losses, label='Test Loss (MSE)')\n",
        "plt.xlabel('Iteration')\n",
        "plt.ylabel('Mean Squared Error')\n",
        "plt.title('Loss Curve for SGDRegressor')\n",
        "plt.legend()\n",
        "plt.grid(True)\n",
        "plt.show()"
      ],
      "metadata": {
        "colab": {
          "base_uri": "https://localhost:8080/",
          "height": 564
        },
        "id": "-Tuiw_oQDFvN",
        "outputId": "a928e9f0-dd2b-4a26-fc96-4c28ff79969e"
      },
      "execution_count": 13,
      "outputs": [
        {
          "output_type": "display_data",
          "data": {
            "text/plain": [
              "<Figure size 1000x600 with 1 Axes>"
            ],
            "image/png": "[encoded data removed]"
          },
          "metadata": {}
        }
      ]
    },
    {
      "cell_type": "markdown",
      "source": [
        "# **4. Compare Models**\n",
        "We compare the optimized linear regression model with decision trees and random forests.\n",
        "### **Linear Regression (SGDRegressor with Pipeline)**\n",
        "We use a pipeline to combine scaling and regression for consistency.\n"
      ],
      "metadata": {
        "id": "kqOvcXnxDRVw"
      }
    },
    {
      "cell_type": "code",
      "source": [
        "from sklearn.pipeline import Pipeline\n",
        "\n",
        "sgd_pipeline = Pipeline([\n",
        "    ('scaler', StandardScaler()),\n",
        "    ('sgd', SGDRegressor(**best_params, random_state=42))\n",
        "])\n",
        "\n",
        "sgd_pipeline.fit(X_train, y_train)\n",
        "y_pred_sgd = sgd_pipeline.predict(X_test)\n",
        "mse_sgd = mean_squared_error(y_test, y_pred_sgd)\n",
        "print(f\"SGD Regressor MSE: {mse_sgd}\")"
      ],
      "metadata": {
        "colab": {
          "base_uri": "https://localhost:8080/"
        },
        "id": "BlxUDADUDbAB",
        "outputId": "c5a9f2d3-5eaa-4c0e-a41e-64030e06dbe7"
      },
      "execution_count": 14,
      "outputs": [
        {
          "output_type": "stream",
          "name": "stdout",
          "text": [
            "SGD Regressor MSE: 9.41019014574555\n"
          ]
        }
      ]
    },
    {
      "cell_type": "markdown",
      "source": [
        "### **Decision Tree**\n",
        "Decision trees don’t require scaling, so we use the original data."
      ],
      "metadata": {
        "id": "sTORPA94DvUq"
      }
    },
    {
      "cell_type": "code",
      "source": [
        "from sklearn.tree import DecisionTreeRegressor\n",
        "\n",
        "tree_reg = DecisionTreeRegressor(random_state=42)\n",
        "tree_reg.fit(X_train, y_train)\n",
        "y_pred_tree = tree_reg.predict(X_test)\n",
        "mse_tree = mean_squared_error(y_test, y_pred_tree)\n",
        "print(f\"Decision Tree MSE: {mse_tree}\")"
      ],
      "metadata": {
        "colab": {
          "base_uri": "https://localhost:8080/"
        },
        "id": "2oyQ6UcaDyd5",
        "outputId": "27ee5b30-494c-4b9b-b821-c43bda7f0384"
      },
      "execution_count": 15,
      "outputs": [
        {
          "output_type": "stream",
          "name": "stdout",
          "text": [
            "Decision Tree MSE: 0.3851987012987016\n"
          ]
        }
      ]
    },
    {
      "cell_type": "markdown",
      "source": [
        "### **Random Forest**\n",
        "Similarly, random forests use the original data."
      ],
      "metadata": {
        "id": "LZ3Ohme5D3GI"
      }
    },
    {
      "cell_type": "code",
      "source": [
        "from sklearn.ensemble import RandomForestRegressor\n",
        "\n",
        "forest_reg = RandomForestRegressor(random_state=42)\n",
        "forest_reg.fit(X_train, y_train)\n",
        "y_pred_forest = forest_reg.predict(X_test)\n",
        "mse_forest = mean_squared_error(y_test, y_pred_forest)\n",
        "print(f\"Random Forest MSE: {mse_forest}\")"
      ],
      "metadata": {
        "colab": {
          "base_uri": "https://localhost:8080/"
        },
        "id": "Yp--TlAbD6m4",
        "outputId": "eeff6ca0-7c03-4d58-a933-4de8e6253207"
      },
      "execution_count": 16,
      "outputs": [
        {
          "output_type": "stream",
          "name": "stdout",
          "text": [
            "Random Forest MSE: 0.24088222909090704\n"
          ]
        }
      ]
    },
    {
      "cell_type": "markdown",
      "source": [
        "# **5. Save the Best-Performing Model**\n",
        "We select the model with the lowest test MSE and save it using joblib."
      ],
      "metadata": {
        "id": "pPC9gMocD-k4"
      }
    },
    {
      "cell_type": "code",
      "source": [
        "import joblib\n",
        "\n",
        "# Determine the best model\n",
        "models = {\n",
        "    'sgd': (mse_sgd, sgd_pipeline),\n",
        "    'tree': (mse_tree, tree_reg),\n",
        "    'forest': (mse_forest, forest_reg)\n",
        "}\n",
        "\n",
        "best_model_name = min(models, key=lambda k: models[k][0])\n",
        "best_model = models[best_model_name][1]\n",
        "best_mse = models[best_model_name][0]\n",
        "\n",
        "print(f\"Best Model: {best_model_name} with MSE: {best_mse}\")\n",
        "joblib.dump(best_model, 'best_model.pkl')"
      ],
      "metadata": {
        "colab": {
          "base_uri": "https://localhost:8080/"
        },
        "id": "I3ObxpG0EByo",
        "outputId": "413a3d42-1fb1-470b-af8d-b9a5698810db"
      },
      "execution_count": 24,
      "outputs": [
        {
          "output_type": "stream",
          "name": "stdout",
          "text": [
            "Best Model: forest with MSE: 0.24088222909090704\n"
          ]
        },
        {
          "output_type": "execute_result",
          "data": {
            "text/plain": [
              "['best_model.pkl']"
            ]
          },
          "metadata": {},
          "execution_count": 24
        }
      ]
    }
  ]
}